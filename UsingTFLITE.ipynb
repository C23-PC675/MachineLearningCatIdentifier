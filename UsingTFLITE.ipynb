{
 "cells": [
  {
   "cell_type": "code",
   "execution_count": 1,
   "id": "8596c190",
   "metadata": {
    "_cell_guid": "b1076dfc-b9ad-4769-8c92-a6c4dae69d19",
    "_uuid": "8f2839f25d086af736a60e9eeb907d3b93b6e0e5",
    "execution": {
     "iopub.execute_input": "2023-06-16T08:20:00.567436Z",
     "iopub.status.busy": "2023-06-16T08:20:00.566629Z",
     "iopub.status.idle": "2023-06-16T08:21:33.502943Z",
     "shell.execute_reply": "2023-06-16T08:21:33.501925Z"
    },
    "papermill": {
     "duration": 92.943413,
     "end_time": "2023-06-16T08:21:33.505583",
     "exception": false,
     "start_time": "2023-06-16T08:20:00.562170",
     "status": "completed"
    },
    "tags": []
   },
   "outputs": [
    {
     "name": "stderr",
     "output_type": "stream",
     "text": [
      "/opt/conda/lib/python3.10/site-packages/tensorflow_io/python/ops/__init__.py:98: UserWarning: unable to load libtensorflow_io_plugins.so: unable to open file: libtensorflow_io_plugins.so, from paths: ['/opt/conda/lib/python3.10/site-packages/tensorflow_io/python/ops/libtensorflow_io_plugins.so']\n",
      "caused by: ['/opt/conda/lib/python3.10/site-packages/tensorflow_io/python/ops/libtensorflow_io_plugins.so: undefined symbol: _ZN3tsl6StatusC1EN10tensorflow5error4CodeESt17basic_string_viewIcSt11char_traitsIcEENS_14SourceLocationE']\n",
      "  warnings.warn(f\"unable to load libtensorflow_io_plugins.so: {e}\")\n",
      "/opt/conda/lib/python3.10/site-packages/tensorflow_io/python/ops/__init__.py:104: UserWarning: file system plugins are not loaded: unable to open file: libtensorflow_io.so, from paths: ['/opt/conda/lib/python3.10/site-packages/tensorflow_io/python/ops/libtensorflow_io.so']\n",
      "caused by: ['/opt/conda/lib/python3.10/site-packages/tensorflow_io/python/ops/libtensorflow_io.so: undefined symbol: _ZTVN10tensorflow13GcsFileSystemE']\n",
      "  warnings.warn(f\"file system plugins are not loaded: {e}\")\n"
     ]
    }
   ],
   "source": [
    "import tensorflow as tf\n",
    "\n",
    "# Load Model\n",
    "model = tf.keras.models.load_model('/kaggle/input/modelcatbreed/model.h5')\n",
    "\n",
    "# Convert the model to TensorFlow Lite\n",
    "converter = tf.lite.TFLiteConverter.from_keras_model(model)\n",
    "tflite_model = converter.convert()\n",
    "\n",
    "# Save the TensorFlow Lite model to a file\n",
    "with open('model.tflite', 'wb') as f:\n",
    "    f.write(tflite_model)\n"
   ]
  },
  {
   "cell_type": "code",
   "execution_count": 2,
   "id": "35baf82d",
   "metadata": {
    "execution": {
     "iopub.execute_input": "2023-06-16T08:21:33.512807Z",
     "iopub.status.busy": "2023-06-16T08:21:33.511978Z",
     "iopub.status.idle": "2023-06-16T08:21:33.672824Z",
     "shell.execute_reply": "2023-06-16T08:21:33.671849Z"
    },
    "papermill": {
     "duration": 0.166397,
     "end_time": "2023-06-16T08:21:33.674851",
     "exception": false,
     "start_time": "2023-06-16T08:21:33.508454",
     "status": "completed"
    },
    "tags": []
   },
   "outputs": [
    {
     "name": "stderr",
     "output_type": "stream",
     "text": [
      "INFO: Created TensorFlow Lite XNNPACK delegate for CPU.\n"
     ]
    }
   ],
   "source": [
    "import numpy as np\n",
    "import tensorflow as tf\n",
    "\n",
    "# Load the TensorFlow Lite model\n",
    "interpreter = tf.lite.Interpreter(model_path='/kaggle/working/model.tflite')\n",
    "interpreter.allocate_tensors()\n",
    "\n",
    "# Get input and output details\n",
    "input_details = interpreter.get_input_details()\n",
    "output_details = interpreter.get_output_details()\n",
    "\n",
    "\n"
   ]
  },
  {
   "cell_type": "code",
   "execution_count": 3,
   "id": "b2bee478",
   "metadata": {
    "execution": {
     "iopub.execute_input": "2023-06-16T08:21:33.681432Z",
     "iopub.status.busy": "2023-06-16T08:21:33.681082Z",
     "iopub.status.idle": "2023-06-16T08:21:33.911198Z",
     "shell.execute_reply": "2023-06-16T08:21:33.909862Z"
    },
    "papermill": {
     "duration": 0.236727,
     "end_time": "2023-06-16T08:21:33.914134",
     "exception": false,
     "start_time": "2023-06-16T08:21:33.677407",
     "status": "completed"
    },
    "tags": []
   },
   "outputs": [],
   "source": [
    "import cv2 #import library\n",
    "import numpy as np\n",
    "\n",
    "image_size = (224, 224) #Convert size\n",
    "\n",
    "# Load Image\n",
    "image_path = '/kaggle/input/cattuxedo/322768-1600x1030-tuxedo-cat-breed-facts-pictures.jpg'  # Image Path\n",
    "img = cv2.imread(image_path) #load image\n",
    "img = cv2.resize(img, image_size) #resize\n",
    "img = img.astype('float32') / 255.0 #Convert and normalize\n",
    "img = np.expand_dims(img, axis=0) \n",
    "\n",
    "\n"
   ]
  },
  {
   "cell_type": "code",
   "execution_count": 4,
   "id": "482f1685",
   "metadata": {
    "execution": {
     "iopub.execute_input": "2023-06-16T08:21:33.921113Z",
     "iopub.status.busy": "2023-06-16T08:21:33.920808Z",
     "iopub.status.idle": "2023-06-16T08:21:34.012339Z",
     "shell.execute_reply": "2023-06-16T08:21:34.010787Z"
    },
    "papermill": {
     "duration": 0.097812,
     "end_time": "2023-06-16T08:21:34.014683",
     "exception": false,
     "start_time": "2023-06-16T08:21:33.916871",
     "status": "completed"
    },
    "tags": []
   },
   "outputs": [
    {
     "name": "stdout",
     "output_type": "stream",
     "text": [
      "[4]\n"
     ]
    }
   ],
   "source": [
    "# Set the input tensor\n",
    "interpreter.set_tensor(input_details[0]['index'], img)\n",
    "\n",
    "# Run inference\n",
    "interpreter.invoke()\n",
    "\n",
    "# Get the output tensor\n",
    "output_data = interpreter.get_tensor(output_details[0]['index'])\n",
    "\n",
    "# Process the output data\n",
    "predictions = np.argmax(output_data, axis=1)\n",
    "\n",
    "# Print the predicted class\n",
    "print(predictions)"
   ]
  },
  {
   "cell_type": "code",
   "execution_count": 5,
   "id": "b636e2da",
   "metadata": {
    "execution": {
     "iopub.execute_input": "2023-06-16T08:21:34.022547Z",
     "iopub.status.busy": "2023-06-16T08:21:34.021692Z",
     "iopub.status.idle": "2023-06-16T08:21:34.114977Z",
     "shell.execute_reply": "2023-06-16T08:21:34.113979Z"
    },
    "papermill": {
     "duration": 0.099887,
     "end_time": "2023-06-16T08:21:34.117607",
     "exception": false,
     "start_time": "2023-06-16T08:21:34.017720",
     "status": "completed"
    },
    "tags": []
   },
   "outputs": [
    {
     "name": "stdout",
     "output_type": "stream",
     "text": [
      "Class: Bengal\n",
      "Confidence: 7.045538740098334e-11 %\n",
      "Class: Bombay\n",
      "Confidence: 9.122328492594534e-05 %\n",
      "Class: Persian\n",
      "Confidence: 1.005743044402152e-06 %\n",
      "Class: Torbie\n",
      "Confidence: 1.814724481796759e-08 %\n",
      "Class: Tuxedo\n",
      "Confidence: 99.99990463256836 %\n",
      "Predicted Class: Tuxedo\n",
      "Highest Confidence: 99.99990463256836 %\n"
     ]
    }
   ],
   "source": [
    "class_labels = [\"Bengal\", \"Bombay\", \"Persian\", \"Torbie\", \"Tuxedo\"]  # List of class labels\n",
    "# Set the input tensor\n",
    "interpreter.set_tensor(input_details[0]['index'], img)\n",
    "\n",
    "# Run inference\n",
    "interpreter.invoke()\n",
    "\n",
    "# Get the output tensor\n",
    "predictions = interpreter.get_tensor(output_details[0]['index'])\n",
    "\n",
    "# Process the output data\n",
    "for i, prediction in enumerate(predictions[0]):\n",
    "    class_label = class_labels[i]\n",
    "    confidence = prediction * 100\n",
    "    print(\"Class:\", class_label)\n",
    "    print(\"Confidence:\", confidence, \"%\")\n",
    "\n",
    "predicted_class_index = np.argmax(predictions[0])\n",
    "predicted_class_label = class_labels[predicted_class_index]\n",
    "highest_confidence = predictions[0][predicted_class_index] * 100\n",
    "\n",
    "print(\"Predicted Class:\", predicted_class_label)\n",
    "print(\"Highest Confidence:\", highest_confidence, \"%\")"
   ]
  }
 ],
 "metadata": {
  "kernelspec": {
   "display_name": "Python 3",
   "language": "python",
   "name": "python3"
  },
  "language_info": {
   "codemirror_mode": {
    "name": "ipython",
    "version": 3
   },
   "file_extension": ".py",
   "mimetype": "text/x-python",
   "name": "python",
   "nbconvert_exporter": "python",
   "pygments_lexer": "ipython3",
   "version": "3.10.10"
  },
  "papermill": {
   "default_parameters": {},
   "duration": 107.723707,
   "end_time": "2023-06-16T08:21:37.803946",
   "environment_variables": {},
   "exception": true,
   "input_path": "__notebook__.ipynb",
   "output_path": "__notebook__.ipynb",
   "parameters": {},
   "start_time": "2023-06-16T08:19:50.080239",
   "version": "2.4.0"
  }
 },
 "nbformat": 4,
 "nbformat_minor": 5
}
